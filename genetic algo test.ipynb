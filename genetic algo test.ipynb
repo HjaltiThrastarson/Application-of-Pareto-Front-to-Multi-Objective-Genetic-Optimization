{
 "cells": [
  {
   "cell_type": "code",
   "execution_count": 1,
   "metadata": {},
   "outputs": [],
   "source": [
    "import numpy as np\n",
    "import pygad"
   ]
  },
  {
   "cell_type": "code",
   "execution_count": 32,
   "metadata": {},
   "outputs": [
    {
     "name": "stdout",
     "output_type": "stream",
     "text": [
      "[-10.78077253  12.46838739]\n"
     ]
    }
   ],
   "source": [
    "functions_inputs = (np.random.rand(2)-0.5)*40\n",
    "desired_output = 0\n",
    "print(functions_inputs)"
   ]
  },
  {
   "cell_type": "code",
   "execution_count": 14,
   "metadata": {},
   "outputs": [
    {
     "data": {
      "text/plain": [
       "array([2.033779])"
      ]
     },
     "execution_count": 14,
     "metadata": {},
     "output_type": "execute_result"
    }
   ],
   "source": [
    "def f1(x, y):\n",
    "    return 2 + (x-2)**2 + (y-1)**2\n",
    "\n",
    "def f2(x,y):\n",
    "    9*x - (y-1)**2\n",
    "\n",
    "funcs = [f1, f2]\n",
    "\n",
    "def fitness_func(solution, solution_idx):\n",
    "    \n"
   ]
  },
  {
   "cell_type": "code",
   "execution_count": 58,
   "metadata": {},
   "outputs": [
    {
     "name": "stdout",
     "output_type": "stream",
     "text": [
      "000\n",
      "001\n",
      "011\n",
      "010\n",
      "110\n",
      "111\n",
      "101\n",
      "100\n"
     ]
    }
   ],
   "source": [
    "num_bits=3\n",
    "gray_list = np.zeros(2**num_bits, dtype=int)\n",
    "for i in range(0, 1<<num_bits):\n",
    "    gray=i^(i>>1)\n",
    "    gray_list[i] = gray\n",
    "    print (\"{0:0{1}b}\".format(gray,num_bits))\n",
    "\n",
    "def graytob(n):\n",
    "  \n",
    "    n = int(n, 2) # convert to int\n",
    " \n",
    "    mask = n\n",
    "    while mask != 0:\n",
    "        mask >>= 1\n",
    "        n ^= mask\n",
    " \n",
    "    return bin(n)[2:]"
   ]
  },
  {
   "cell_type": "code",
   "execution_count": 75,
   "metadata": {},
   "outputs": [
    {
     "data": {
      "text/plain": [
       "'100'"
      ]
     },
     "execution_count": 75,
     "metadata": {},
     "output_type": "execute_result"
    }
   ],
   "source": [
    "format(gray_list[7], \"0{}b\".format(num_bits))"
   ]
  },
  {
   "cell_type": "code",
   "execution_count": 52,
   "metadata": {},
   "outputs": [
    {
     "data": {
      "text/plain": [
       "4"
      ]
     },
     "execution_count": 52,
     "metadata": {},
     "output_type": "execute_result"
    }
   ],
   "source": []
  }
 ],
 "metadata": {
  "kernelspec": {
   "display_name": "Python 3",
   "language": "python",
   "name": "python3"
  },
  "language_info": {
   "codemirror_mode": {
    "name": "ipython",
    "version": 3
   },
   "file_extension": ".py",
   "mimetype": "text/x-python",
   "name": "python",
   "nbconvert_exporter": "python",
   "pygments_lexer": "ipython3",
   "version": "3.9.12"
  }
 },
 "nbformat": 4,
 "nbformat_minor": 2
}
