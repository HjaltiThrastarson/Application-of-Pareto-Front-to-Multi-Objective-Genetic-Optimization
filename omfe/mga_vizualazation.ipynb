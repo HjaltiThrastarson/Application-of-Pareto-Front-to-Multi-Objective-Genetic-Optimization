{
 "cells": [
  {
   "cell_type": "code",
   "execution_count": 1,
   "metadata": {},
   "outputs": [],
   "source": [
    "import mga"
   ]
  },
  {
   "cell_type": "code",
   "execution_count": 17,
   "metadata": {},
   "outputs": [],
   "source": [
    "num_bits = 16"
   ]
  },
  {
   "cell_type": "code",
   "execution_count": 67,
   "metadata": {},
   "outputs": [],
   "source": [
    "def reverseGrayMapping(number):\n",
    "        ## Does reverse graymapping, takes in a number\n",
    "        # Takes in gray code decimal equailant number and converts to correct binary number equivalent\n",
    "        # Taking xor until\n",
    "        # n becomes zero\n",
    "        inv = 0\n",
    "        while(number):\n",
    "            inv = inv ^ number\n",
    "            number = number >> 1\n",
    "        number = inv\n",
    "        print(number)\n",
    "        min_range = -20\n",
    "        max_range = 20\n",
    "        total_range = abs(max_range - min_range)\n",
    "        intervals = total_range / (2**num_bits-1)\n",
    "        number = number * intervals\n",
    "        number = number - abs(min_range)\n",
    "        return number"
   ]
  },
  {
   "cell_type": "code",
   "execution_count": 87,
   "metadata": {},
   "outputs": [],
   "source": [
    "def grayMapping(number):\n",
    "        ## Graymapping of agents\n",
    "        # These ranges should be variable specific, can later be implemented in the class\n",
    "        min_range = -20\n",
    "        max_range = 20\n",
    "        total_range = abs(max_range - min_range)\n",
    "        intervals = total_range / (2**num_bits - 1)\n",
    "        # Make sure number is non-negative\n",
    "        normalizedNumber = number + abs(min_range)\n",
    "        # Calculate the number of intervals the number is in\n",
    "        numberOfIntervals = int(normalizedNumber / intervals)\n",
    "        binaryNumber = format(numberOfIntervals, \"0{}b\".format(num_bits))\n",
    "        # Convert to greymapping\n",
    "        n = int(binaryNumber, 2)  # convert to int\n",
    "        mask = n\n",
    "        while mask != 0:\n",
    "            mask >>= 1\n",
    "            n ^= mask\n",
    "        return format(n, \"0{}b\".format(num_bits))"
   ]
  },
  {
   "cell_type": "code",
   "execution_count": 30,
   "metadata": {},
   "outputs": [
    {
     "data": {
      "text/plain": [
       "57.5"
      ]
     },
     "execution_count": 30,
     "metadata": {},
     "output_type": "execute_result"
    }
   ],
   "source": [
    "reverseGrayMapping(31)"
   ]
  },
  {
   "cell_type": "code",
   "execution_count": 88,
   "metadata": {},
   "outputs": [
    {
     "name": "stdout",
     "output_type": "stream",
     "text": [
      "65535\n"
     ]
    },
    {
     "data": {
      "text/plain": [
       "'1010101010101010'"
      ]
     },
     "execution_count": 88,
     "metadata": {},
     "output_type": "execute_result"
    }
   ],
   "source": [
    "grayMapping(20.0)"
   ]
  },
  {
   "cell_type": "code",
   "execution_count": 89,
   "metadata": {},
   "outputs": [
    {
     "name": "stdout",
     "output_type": "stream",
     "text": [
      "65535\n",
      "43690\n",
      "10101010\n"
     ]
    }
   ],
   "source": [
    "graymap = grayMapping(20)\n",
    "number = int(graymap, 2)\n",
    "print(number)\n",
    "print(graymap[:8])"
   ]
  },
  {
   "cell_type": "code",
   "execution_count": 86,
   "metadata": {},
   "outputs": [
    {
     "name": "stdout",
     "output_type": "stream",
     "text": [
      "52428\n"
     ]
    },
    {
     "data": {
      "text/plain": [
       "12.0"
      ]
     },
     "execution_count": 86,
     "metadata": {},
     "output_type": "execute_result"
    }
   ],
   "source": [
    "reverseGrayMapping(number)"
   ]
  }
 ],
 "metadata": {
  "interpreter": {
   "hash": "dac3a2620f52d21af56cd0680b31af3f0ddffd41baff379a19eac250759e87c7"
  },
  "kernelspec": {
   "display_name": "Python 3.10.4 ('.venv': poetry)",
   "language": "python",
   "name": "python3"
  },
  "language_info": {
   "codemirror_mode": {
    "name": "ipython",
    "version": 3
   },
   "file_extension": ".py",
   "mimetype": "text/x-python",
   "name": "python",
   "nbconvert_exporter": "python",
   "pygments_lexer": "ipython3",
   "version": "3.10.4"
  },
  "orig_nbformat": 4
 },
 "nbformat": 4,
 "nbformat_minor": 2
}
